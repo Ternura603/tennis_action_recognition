{
 "cells": [
  {
   "cell_type": "markdown",
   "metadata": {},
   "source": [
    "# Create CSV File To Prepare Training, Validation, Test Sets"
   ]
  },
  {
   "cell_type": "code",
   "execution_count": 1,
   "metadata": {
    "collapsed": true
   },
   "outputs": [],
   "source": [
    "import csv\n",
    "import os\n",
    "import os.path\n",
    "import random"
   ]
  },
  {
   "cell_type": "code",
   "execution_count": 2,
   "metadata": {
    "collapsed": true
   },
   "outputs": [],
   "source": [
    "# backhand = backhand\n",
    "# bslice = backhand slice\n",
    "# bvolley = backhand volley\n",
    "# backhand2h = two handed backhand\n",
    "# serflat = flat serve\n",
    "# foreflat = flat forehand groundshot\n",
    "# foreopen = open stands forehand ground shot? not sure what diff is between this and foreflat\n",
    "# fslice = forehand slice ground shot\n",
    "# fvolley = forehand volley\n",
    "# serkick = kick serve\n",
    "# serslice = slice serve\n",
    "# smash = smash\n",
    "\n",
    "# classes can be consolidated into 6 classes for better performance:\n",
    "\n",
    "# backhand = backhand, bslice, backhand2h\n",
    "# forehand = foreflat, foreopen, fslice\n",
    "# service = serflat, serkick, serslice\n",
    "# bvolley\n",
    "# fvolley\n",
    "# smash"
   ]
  },
  {
   "cell_type": "code",
   "execution_count": 11,
   "metadata": {
    "collapsed": true
   },
   "outputs": [],
   "source": [
    "train_size = 0.8  # training set proportion\n",
    "val_size = 0.1  # validation set proportion\n",
    "\n",
    "# set how many videos to incorporate in dataset from each class\n",
    "max_class_size = 300 # something arbitrarily large will generate .npy for all data\n",
    "\n",
    "random.seed(1)  # generate same random dataset"
   ]
  },
  {
   "cell_type": "code",
   "execution_count": 12,
   "metadata": {
    "collapsed": false
   },
   "outputs": [
    {
     "name": "stdout",
     "output_type": "stream",
     "text": [
      "backhand\n",
      "backhand2h\n",
      "bslice\n",
      "bvolley\n",
      "foreflat\n",
      "foreopen\n",
      "fslice\n",
      "fvolley\n",
      "serflat\n",
      "serkick\n",
      "serslice\n",
      "smash\n"
     ]
    }
   ],
   "source": [
    "# --- EXECUTE THIS CELL TO CREATE DATASET CSV FILE --- #\n",
    "\n",
    "with open('data/data_file.csv', 'w') as csvfile:\n",
    "    writer = csv.writer(csvfile, delimiter=',')\n",
    "    \n",
    "    # get subdirectories in VIDEO_RGB\n",
    "\n",
    "    path = os.path.join('../code/VIDEO_RGB')\n",
    "\n",
    "    # ignore .DS_store\n",
    "    class_folders = [item for item in os.listdir(path) if not item.startswith('.')]\n",
    "    \n",
    "    \n",
    "    # iterate over each folder, and write train/test samples to csv file\n",
    "    for class_label in class_folders:\n",
    "#         print class_label\n",
    "\n",
    "        subpath = os.path.join(path, class_label)\n",
    "\n",
    "        videos = []\n",
    "        for vid in os.listdir(subpath):\n",
    "            \n",
    "            # make sure vid is a file and not .DS_Store\n",
    "            if os.path.isfile(os.path.join(subpath, vid)) and not vid.startswith('.'):\n",
    "                vid = os.path.splitext(vid)[0]\n",
    "                videos.append(vid)\n",
    "\n",
    "        # --- EDIT THESE LINES: choose what sequences to generate ---- #\n",
    "        \n",
    "        # TURN ON RANDOM SHUFFLE WHEN GENERATING ACTUAL DATASET\n",
    "        random.shuffle(videos)  # NOTE: shuffles videos in place\n",
    "\n",
    "        # alter size of dataset\n",
    "        if max_class_size < len(videos):\n",
    "            videos = videos[:max_class_size]\n",
    "            \n",
    "        # ------------------------------------------------------------ #\n",
    "\n",
    "        # split into training and test sets\n",
    "        train_split_ind = int(round(train_size*len(videos)))\n",
    "        val_split_ind = train_split_ind + int(round(val_size*len(videos)))\n",
    "        \n",
    "        train = videos[0:train_split_ind]\n",
    "        validation = videos[train_split_ind:val_split_ind]\n",
    "        test = videos[val_split_ind:]\n",
    "\n",
    "        # --- RELABEL TO CONSOLIDATE CLASSES --- #\n",
    "        if class_label == 'backhand2h' or class_label == 'bslice':\n",
    "            class_label = 'backhand'\n",
    "            \n",
    "        if class_label == 'foreflat' or class_label == 'foreopen' or class_label == 'fslice':\n",
    "            class_label = 'forehand'\n",
    "            \n",
    "        if class_label == 'serflat' or class_label == 'serkick' or class_label == 'serslice':\n",
    "            class_label = 'service'\n",
    "\n",
    "        # write train_size proportion to csv as train\n",
    "        for sample in train:\n",
    "            writer.writerow(['train'] + [class_label] + [sample])\n",
    "            \n",
    "        # write val_size proportion to csv as validation\n",
    "        for sample in validation:\n",
    "            writer.writerow(['validation'] + [class_label] + [sample])\n",
    "        \n",
    "        # write remaining proportion to csv as test\n",
    "        for sample in test:\n",
    "            writer.writerow(['test'] + [class_label] + [sample])"
   ]
  },
  {
   "cell_type": "code",
   "execution_count": null,
   "metadata": {
    "collapsed": true
   },
   "outputs": [],
   "source": []
  }
 ],
 "metadata": {
  "anaconda-cloud": {},
  "kernelspec": {
   "display_name": "Python [default]",
   "language": "python",
   "name": "python2"
  },
  "language_info": {
   "codemirror_mode": {
    "name": "ipython",
    "version": 2
   },
   "file_extension": ".py",
   "mimetype": "text/x-python",
   "name": "python",
   "nbconvert_exporter": "python",
   "pygments_lexer": "ipython2",
   "version": "2.7.14"
  }
 },
 "nbformat": 4,
 "nbformat_minor": 2
}
